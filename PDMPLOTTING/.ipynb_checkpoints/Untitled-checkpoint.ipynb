{
 "cells": [
  {
   "cell_type": "markdown",
   "metadata": {},
   "source": [
    "# Plotting result Unlynx vs Prio"
   ]
  },
  {
   "cell_type": "code",
   "execution_count": 92,
   "metadata": {
    "collapsed": false
   },
   "outputs": [],
   "source": [
    "import numpy as np\n",
    "import matplotlib.pyplot as plt\n",
    "import pylab\n",
    "import re\n",
    "import numpy as np\n",
    "%matplotlib inline\n",
    "\n",
    "def plot(path):\n",
    "    data = []\n",
    "    for p in path :\n",
    "        fp = open(p)\n",
    "        unit = \"ms\"\n",
    "\n",
    "        for line in fp.readlines():\n",
    "            print(line)\n",
    "            if(line!=\"\"):\n",
    "                dataS = (re.findall(r'\\d*[.]\\d*',line))\n",
    "                newUnit = (re.findall(r'[a-z|µ]{1,}',line))[0]\n",
    "                if(newUnit[0]=='s'):\n",
    "                    data.append(float(dataS[0])*1000)\n",
    "                elif(newUnit[:2]==\"µs\"):\n",
    "                    data.append(float(dataS[0])/1000)\n",
    "                else :\n",
    "                    data.append(float(dataS[0]))\n",
    "    fig3, ax3 = plt.subplots()\n",
    "    ax3.set_title(\"time in \" + unit)\n",
    "    print(\"mean is\",np.mean(data))\n",
    "    print(\"std is\",np.std(data))\n",
    "    ax3.boxplot(data)\n",
    "    return np.mean(data),np.std(data)"
   ]
  },
  {
   "cell_type": "markdown",
   "metadata": {},
   "source": [
    "## Variation with number of Server"
   ]
  },
  {
   "cell_type": "markdown",
   "metadata": {},
   "source": [
    "x ad z will contains data about prio agg in function of # Server"
   ]
  },
  {
   "cell_type": "code",
   "execution_count": 93,
   "metadata": {
    "collapsed": false
   },
   "outputs": [
    {
     "name": "stdout",
     "output_type": "stream",
     "text": [
      "778.647µs\n",
      "\n",
      "1.157798ms\n",
      "\n",
      "619.242µs\n",
      "\n",
      "886.372µs\n",
      "\n",
      "728.644µs\n",
      "\n",
      "586.676µs\n",
      "\n",
      "669.617µs\n",
      "\n",
      "636.707µs\n",
      "\n",
      "2.677199ms\n",
      "\n",
      "985.335µs\n",
      "\n",
      "992.827µs\n",
      "\n",
      "563.522µs\n",
      "\n",
      "548.668µs\n",
      "\n",
      "594.44µs\n",
      "\n",
      "554.094µs\n",
      "mean is 0.8653192\n",
      "std is 0.517435651341\n",
      "1.682511ms\n",
      "\n",
      "1.487173ms\n",
      "\n",
      "1.720767ms\n",
      "\n",
      "1.050855ms\n",
      "\n",
      "937.567µs\n",
      "mean is 1.3757746\n",
      "std is 0.323454858003\n",
      "3.413598ms\n",
      "\n",
      "3.361193ms\n",
      "\n",
      "3.331945ms\n",
      "\n",
      "4.190581ms\n",
      "\n",
      "5.660222ms\n",
      "mean is 3.9915078\n",
      "std is 0.893368545609\n"
     ]
    },
    {
     "data": {
      "image/png": "[encoded data removed]",
      "text/plain": [
       "<matplotlib.figure.Figure at 0x198bd899860>"
      ]
     },
     "metadata": {},
     "output_type": "display_data"
    },
    {
     "data": {
      "image/png": "[encoded data removed]",
      "text/plain": [
       "<matplotlib.figure.Figure at 0x198bd899240>"
      ]
     },
     "metadata": {},
     "output_type": "display_data"
    },
    {
     "data": {
      "image/png": "[encoded data removed]",
      "text/plain": [
       "<matplotlib.figure.Figure at 0x198be1c2e10>"
      ]
     },
     "metadata": {},
     "output_type": "display_data"
    }
   ],
   "source": [
    "x = []\n",
    "z = []\n",
    "y = [4,10,25]\n",
    "mean,std = plot([\"4serv_10client/prioAgg.txt\"])\n",
    "x.append(mean)\n",
    "z.append(std)\n",
    "mean,std = plot([\"10serv_10client/prioAgg.txt\"])\n",
    "x.append(mean)\n",
    "z.append(std)\n",
    "mean,std = plot([\"25serv_10client/prioAgg.txt\"])\n",
    "x.append(mean)\n",
    "z.append(std)"
   ]
  },
  {
   "cell_type": "markdown",
   "metadata": {},
   "source": [
    "xp and zp will contain info about aggregation in unlynx in function in # of server"
   ]
  },
  {
   "cell_type": "code",
   "execution_count": 94,
   "metadata": {
    "collapsed": false
   },
   "outputs": [
    {
     "name": "stdout",
     "output_type": "stream",
     "text": [
      "1.822337ms\n",
      "\n",
      "227.075µs\n",
      "\n",
      "49.323µs\n",
      "\n",
      "24.555µs\n",
      "\n",
      "35.881µs\n",
      "\n",
      "25.4µs\n",
      "\n",
      "34.539µs\n",
      "\n",
      "31.5µs\n",
      "\n",
      "23.693µs\n",
      "\n",
      "23.832µs\n",
      "\n",
      "22.987µs\n",
      "\n",
      "31.62µs\n",
      "\n",
      "47.943µs\n",
      "\n",
      "32.835µs\n",
      "\n",
      "33.274µs\n",
      "5.45335ms\n",
      "\n",
      "8.756917ms\n",
      "\n",
      "5.879058ms\n",
      "\n",
      "9.04125ms\n",
      "\n",
      "7.779604ms\n",
      "\n",
      "6.149216ms\n",
      "\n",
      "8.181887ms\n",
      "\n",
      "14.953127ms\n",
      "\n",
      "11.668424ms\n",
      "\n",
      "8.344006ms\n",
      "\n",
      "5.750878ms\n",
      "\n",
      "8.487324ms\n",
      "\n",
      "6.705522ms\n",
      "\n",
      "11.444005ms\n",
      "\n",
      "7.863697ms\n",
      "mean is 4.29750196667\n",
      "std is 4.5077134884\n",
      "103.854µs\n",
      "\n",
      "21.853µs\n",
      "\n",
      "39.862µs\n",
      "\n",
      "28.122µs\n",
      "\n",
      "29.558µs\n",
      "\n",
      "24.11µs\n",
      "\n",
      "62.873µs\n",
      "\n",
      "28.512µs\n",
      "\n",
      "30.282µs\n",
      "\n",
      "24.61µs\n",
      "\n",
      "30.064µs\n",
      "\n",
      "28.463µs\n",
      "\n",
      "59.631µs\n",
      "\n",
      "26.89µs\n",
      "\n",
      "47.613µs\n",
      "14.990243ms\n",
      "\n",
      "14.379358ms\n",
      "\n",
      "13.465006ms\n",
      "\n",
      "13.100824ms\n",
      "\n",
      "14.674066ms\n",
      "\n",
      "22.835839ms\n",
      "\n",
      "19.205531ms\n",
      "\n",
      "14.692196ms\n",
      "\n",
      "17.526357ms\n",
      "\n",
      "20.202939ms\n",
      "\n",
      "14.233525ms\n",
      "\n",
      "14.569502ms\n",
      "\n",
      "15.0513ms\n",
      "\n",
      "12.770932ms\n",
      "\n",
      "12.114908ms\n",
      "mean is 7.8132941\n",
      "std is 8.04391217348\n",
      "21.902µs\n",
      "\n",
      "18.522µs\n",
      "\n",
      "18.75µs\n",
      "\n",
      "24.349µs\n",
      "\n",
      "18.635µs\n",
      "\n",
      "62.58µs\n",
      "\n",
      "22.257µs\n",
      "\n",
      "18.261µs\n",
      "\n",
      "22.58µs\n",
      "\n",
      "21.575µs\n",
      "\n",
      "19.342µs\n",
      "\n",
      "333.872µs\n",
      "\n",
      "20.548µs\n",
      "\n",
      "34.628µs\n",
      "\n",
      "266.578µs\n",
      "38.638743ms\n",
      "\n",
      "64.193433ms\n",
      "\n",
      "68.628049ms\n",
      "\n",
      "47.298775ms\n",
      "\n",
      "50.866488ms\n",
      "\n",
      "61.42483ms\n",
      "\n",
      "43.602735ms\n",
      "\n",
      "41.71057ms\n",
      "\n",
      "32.906952ms\n",
      "\n",
      "36.552932ms\n",
      "\n",
      "53.309737ms\n",
      "\n",
      "36.874086ms\n",
      "\n",
      "40.824556ms\n",
      "\n",
      "38.314751ms\n",
      "\n",
      "47.539854ms\n",
      "mean is 23.4536956667\n",
      "std is 24.5461076414\n"
     ]
    },
    {
     "data": {
      "image/png": "[encoded data removed]",
      "text/plain": [
       "<matplotlib.figure.Figure at 0x198be148a20>"
      ]
     },
     "metadata": {},
     "output_type": "display_data"
    },
    {
     "data": {
      "image/png": "[encoded data removed]",
      "text/plain": [
       "<matplotlib.figure.Figure at 0x198be148080>"
      ]
     },
     "metadata": {},
     "output_type": "display_data"
    },
    {
     "data": {
      "image/png": "[encoded data removed]",
      "text/plain": [
       "<matplotlib.figure.Figure at 0x198be484390>"
      ]
     },
     "metadata": {},
     "output_type": "display_data"
    }
   ],
   "source": [
    "xp = []\n",
    "zp = []\n",
    "\n",
    "mean,std = plot([\"4serv_10client/localAgg.txt\",\"4serv_10client/collectiveAgg.txt\"])\n",
    "xp.append(mean)\n",
    "zp.append(std)\n",
    "mean,std = plot([\"10serv_10client/localAgg.txt\",\"10serv_10client/collectiveAgg.txt\"])\n",
    "xp.append(mean)\n",
    "zp.append(std)\n",
    "mean,std = plot([\"25serv_10client/localAgg.txt\",\"25serv_10client/collectiveAgg.txt\"])\n",
    "xp.append(mean)\n",
    "zp.append(std)\n"
   ]
  },
  {
   "cell_type": "code",
   "execution_count": 95,
   "metadata": {
    "collapsed": false
   },
   "outputs": [
    {
     "name": "stdout",
     "output_type": "stream",
     "text": [
      "440.914438ms\n",
      "\n",
      "456.27549ms\n",
      "\n",
      "450.336993ms\n",
      "\n",
      "434.743079ms\n",
      "\n",
      "457.523007ms\n",
      "\n",
      "488.449005ms\n",
      "\n",
      "443.023496ms\n",
      "\n",
      "445.051984ms\n",
      "\n",
      "455.145518ms\n",
      "\n",
      "514.824074ms\n",
      "\n",
      "464.033319ms\n",
      "\n",
      "399.047905ms\n",
      "\n",
      "412.867262ms\n",
      "\n",
      "479.539956ms\n",
      "\n",
      "519.810729ms\n",
      "mean is 457.439083667\n",
      "std is 31.9160013007\n",
      "6.11070048s\n",
      "\n",
      "5.650403468s\n",
      "\n",
      "5.638443128s\n",
      "\n",
      "5.709440071s\n",
      "\n",
      "5.655629888s\n",
      "mean is 5752.923407\n",
      "std is 180.542147703\n",
      "37.870648167s\n",
      "\n",
      "35.351423356s\n",
      "\n",
      "35.050576788s\n",
      "\n",
      "34.496224771s\n",
      "\n",
      "34.764919668s\n",
      "mean is 35506.75855\n",
      "std is 1215.87074882\n"
     ]
    },
    {
     "data": {
      "image/png": "[encoded data removed]",
      "text/plain": [
       "<matplotlib.figure.Figure at 0x198be282828>"
      ]
     },
     "metadata": {},
     "output_type": "display_data"
    },
    {
     "data": {
      "image/png": "[encoded data removed]",
      "text/plain": [
       "<matplotlib.figure.Figure at 0x198bf672128>"
      ]
     },
     "metadata": {},
     "output_type": "display_data"
    },
    {
     "data": {
      "image/png": "[encoded data removed]",
      "text/plain": [
       "<matplotlib.figure.Figure at 0x198be466dd8>"
      ]
     },
     "metadata": {},
     "output_type": "display_data"
    }
   ],
   "source": [
    "xpp = []\n",
    "zpp = []\n",
    "\n",
    "mean,std = plot([\"4serv_10client/verif.txt\"])\n",
    "xpp.append(mean)\n",
    "zpp.append(std)\n",
    "mean,std = plot([\"10serv_10client/verif.txt\"])\n",
    "xpp.append(mean)\n",
    "zpp.append(std)\n",
    "mean,std = plot([\"25serv_10client/verif.txt\"])\n",
    "xpp.append(mean)\n",
    "zpp.append(std)\n"
   ]
  },
  {
   "cell_type": "code",
   "execution_count": 96,
   "metadata": {
    "collapsed": false
   },
   "outputs": [
    {
     "data": {
      "image/png": "[encoded data removed]",
      "text/plain": [
       "<matplotlib.figure.Figure at 0x198be1f1ba8>"
      ]
     },
     "metadata": {},
     "output_type": "display_data"
    }
   ],
   "source": [
    "fig, ax = plt.subplots()\n",
    "\n",
    "\n",
    "ax.plot(y,x,'k--',label='prioAgg')\n",
    "\n",
    "ax.plot(y,xp,label='unlynxAgg')\n",
    "#ax.plot(y,xpp,label='prioProof')\n",
    "legend = ax.legend(loc='upper center', shadow=True, fontsize='x-large')\n",
    "\n"
   ]
  },
  {
   "cell_type": "markdown",
   "metadata": {},
   "source": [
    "## Variation in number of client"
   ]
  },
  {
   "cell_type": "code",
   "execution_count": 97,
   "metadata": {
    "collapsed": false
   },
   "outputs": [
    {
     "name": "stdout",
     "output_type": "stream",
     "text": [
      "671.739µs\n",
      "\n",
      "687.514µs\n",
      "\n",
      "556.343µs\n",
      "\n",
      "640.598µs\n",
      "\n",
      "827.024µs\n",
      "\n",
      "1.957078ms\n",
      "\n",
      "1.161718ms\n",
      "\n",
      "603.324µs\n",
      "\n",
      "696.953µs\n",
      "\n",
      "503.882µs\n",
      "\n",
      "488.18µs\n",
      "\n",
      "580.541µs\n",
      "\n",
      "625.269µs\n",
      "\n",
      "787.228µs\n",
      "\n",
      "540.307µs\n",
      "mean is 0.755179866667\n",
      "std is 0.359134443281\n",
      "778.647µs\n",
      "\n",
      "1.157798ms\n",
      "\n",
      "619.242µs\n",
      "\n",
      "886.372µs\n",
      "\n",
      "728.644µs\n",
      "\n",
      "586.676µs\n",
      "\n",
      "669.617µs\n",
      "\n",
      "636.707µs\n",
      "\n",
      "2.677199ms\n",
      "\n",
      "985.335µs\n",
      "\n",
      "992.827µs\n",
      "\n",
      "563.522µs\n",
      "\n",
      "548.668µs\n",
      "\n",
      "594.44µs\n",
      "\n",
      "554.094µs\n",
      "mean is 0.8653192\n",
      "std is 0.517435651341\n",
      "\n",
      "\n"
     ]
    },
    {
     "ename": "IndexError",
     "evalue": "list index out of range",
     "output_type": "error",
     "traceback": [
      "\u001b[1;31m\u001b[0m",
      "\u001b[1;31mIndexError\u001b[0mTraceback (most recent call last)",
      "\u001b[1;32m<ipython-input-97-641786913c5f>\u001b[0m in \u001b[0;36m<module>\u001b[1;34m()\u001b[0m\n\u001b[0;32m      8\u001b[0m \u001b[0mx\u001b[0m\u001b[1;33m.\u001b[0m\u001b[0mappend\u001b[0m\u001b[1;33m(\u001b[0m\u001b[0mmean\u001b[0m\u001b[1;33m)\u001b[0m\u001b[1;33m\u001b[0m\u001b[0m\n\u001b[0;32m      9\u001b[0m \u001b[0mz\u001b[0m\u001b[1;33m.\u001b[0m\u001b[0mappend\u001b[0m\u001b[1;33m(\u001b[0m\u001b[0mstd\u001b[0m\u001b[1;33m)\u001b[0m\u001b[1;33m\u001b[0m\u001b[0m\n\u001b[1;32m---> 10\u001b[1;33m \u001b[0mmean\u001b[0m\u001b[1;33m,\u001b[0m\u001b[0mstd\u001b[0m \u001b[1;33m=\u001b[0m \u001b[0mplot\u001b[0m\u001b[1;33m(\u001b[0m\u001b[1;33m[\u001b[0m\u001b[1;34m\"4serv_100client/prioAgg.txt\"\u001b[0m\u001b[1;33m]\u001b[0m\u001b[1;33m)\u001b[0m\u001b[1;33m\u001b[0m\u001b[0m\n\u001b[0m\u001b[0;32m     11\u001b[0m \u001b[0mx\u001b[0m\u001b[1;33m.\u001b[0m\u001b[0mappend\u001b[0m\u001b[1;33m(\u001b[0m\u001b[0mmean\u001b[0m\u001b[1;33m)\u001b[0m\u001b[1;33m\u001b[0m\u001b[0m\n\u001b[0;32m     12\u001b[0m \u001b[0mz\u001b[0m\u001b[1;33m.\u001b[0m\u001b[0mappend\u001b[0m\u001b[1;33m(\u001b[0m\u001b[0mstd\u001b[0m\u001b[1;33m)\u001b[0m\u001b[1;33m\u001b[0m\u001b[0m\n",
      "\u001b[1;32m<ipython-input-92-15a4ab65e382>\u001b[0m in \u001b[0;36mplot\u001b[1;34m(path)\u001b[0m\n\u001b[0;32m     16\u001b[0m             \u001b[1;32mif\u001b[0m\u001b[1;33m(\u001b[0m\u001b[0mline\u001b[0m\u001b[1;33m!=\u001b[0m\u001b[1;34m\"\"\u001b[0m\u001b[1;33m)\u001b[0m\u001b[1;33m:\u001b[0m\u001b[1;33m\u001b[0m\u001b[0m\n\u001b[0;32m     17\u001b[0m                 \u001b[0mdataS\u001b[0m \u001b[1;33m=\u001b[0m \u001b[1;33m(\u001b[0m\u001b[0mre\u001b[0m\u001b[1;33m.\u001b[0m\u001b[0mfindall\u001b[0m\u001b[1;33m(\u001b[0m\u001b[1;34mr'\\d*[.]\\d*'\u001b[0m\u001b[1;33m,\u001b[0m\u001b[0mline\u001b[0m\u001b[1;33m)\u001b[0m\u001b[1;33m)\u001b[0m\u001b[1;33m\u001b[0m\u001b[0m\n\u001b[1;32m---> 18\u001b[1;33m                 \u001b[0mnewUnit\u001b[0m \u001b[1;33m=\u001b[0m \u001b[1;33m(\u001b[0m\u001b[0mre\u001b[0m\u001b[1;33m.\u001b[0m\u001b[0mfindall\u001b[0m\u001b[1;33m(\u001b[0m\u001b[1;34mr'[a-z|µ]{1,}'\u001b[0m\u001b[1;33m,\u001b[0m\u001b[0mline\u001b[0m\u001b[1;33m)\u001b[0m\u001b[1;33m)\u001b[0m\u001b[1;33m[\u001b[0m\u001b[1;36m0\u001b[0m\u001b[1;33m]\u001b[0m\u001b[1;33m\u001b[0m\u001b[0m\n\u001b[0m\u001b[0;32m     19\u001b[0m                 \u001b[1;32mif\u001b[0m\u001b[1;33m(\u001b[0m\u001b[0mnewUnit\u001b[0m\u001b[1;33m[\u001b[0m\u001b[1;36m0\u001b[0m\u001b[1;33m]\u001b[0m\u001b[1;33m==\u001b[0m\u001b[1;34m's'\u001b[0m\u001b[1;33m)\u001b[0m\u001b[1;33m:\u001b[0m\u001b[1;33m\u001b[0m\u001b[0m\n\u001b[0;32m     20\u001b[0m                     \u001b[0mdata\u001b[0m\u001b[1;33m.\u001b[0m\u001b[0mappend\u001b[0m\u001b[1;33m(\u001b[0m\u001b[0mfloat\u001b[0m\u001b[1;33m(\u001b[0m\u001b[0mdataS\u001b[0m\u001b[1;33m[\u001b[0m\u001b[1;36m0\u001b[0m\u001b[1;33m]\u001b[0m\u001b[1;33m)\u001b[0m\u001b[1;33m*\u001b[0m\u001b[1;36m1000\u001b[0m\u001b[1;33m)\u001b[0m\u001b[1;33m\u001b[0m\u001b[0m\n",
      "\u001b[1;31mIndexError\u001b[0m: list index out of range"
     ]
    },
    {
     "data": {
      "image/png": "[encoded data removed]",
      "text/plain": [
       "<matplotlib.figure.Figure at 0x198be174e80>"
      ]
     },
     "metadata": {},
     "output_type": "display_data"
    },
    {
     "data": {
      "image/png": "[encoded data removed]",
      "text/plain": [
       "<matplotlib.figure.Figure at 0x198be174e10>"
      ]
     },
     "metadata": {},
     "output_type": "display_data"
    }
   ],
   "source": [
    "x = []\n",
    "z = []\n",
    "y = [4,10,100,1000]\n",
    "mean,std = plot([\"4serv_4client/prioAgg.txt\"])\n",
    "x.append(mean)\n",
    "z.append(std)\n",
    "mean,std = plot([\"4serv_10client/prioAgg.txt\"])\n",
    "x.append(mean)\n",
    "z.append(std)\n",
    "mean,std = plot([\"4serv_100client/prioAgg.txt\"])\n",
    "x.append(mean)\n",
    "z.append(std)\n",
    "mean,std = plot([\"4serv_1000client/prioAgg.txt\"])\n",
    "x.append(mean)\n",
    "z.append(std)"
   ]
  },
  {
   "cell_type": "code",
   "execution_count": null,
   "metadata": {
    "collapsed": true
   },
   "outputs": [],
   "source": []
  },
  {
   "cell_type": "code",
   "execution_count": null,
   "metadata": {
    "collapsed": true
   },
   "outputs": [],
   "source": []
  },
  {
   "cell_type": "code",
   "execution_count": null,
   "metadata": {
    "collapsed": true
   },
   "outputs": [],
   "source": []
  },
  {
   "cell_type": "code",
   "execution_count": null,
   "metadata": {
    "collapsed": true
   },
   "outputs": [],
   "source": []
  },
  {
   "cell_type": "code",
   "execution_count": null,
   "metadata": {
    "collapsed": true
   },
   "outputs": [],
   "source": []
  }
 ],
 "metadata": {
  "anaconda-cloud": {},
  "kernelspec": {
   "display_name": "Python [Root]",
   "language": "python",
   "name": "Python [Root]"
  },
  "language_info": {
   "codemirror_mode": {
    "name": "ipython",
    "version": 3
   },
   "file_extension": ".py",
   "mimetype": "text/x-python",
   "name": "python",
   "nbconvert_exporter": "python",
   "pygments_lexer": "ipython3",
   "version": "3.5.2"
  }
 },
 "nbformat": 4,
 "nbformat_minor": 0
}
