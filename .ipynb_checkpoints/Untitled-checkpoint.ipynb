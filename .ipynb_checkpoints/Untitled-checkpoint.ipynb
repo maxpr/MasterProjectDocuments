{
 "cells": [
  {
   "cell_type": "markdown",
   "metadata": {},
   "source": [
    "# Time for aggregation of unlynx"
   ]
  },
  {
   "cell_type": "code",
   "execution_count": 77,
   "metadata": {
    "collapsed": false
   },
   "outputs": [
    {
     "name": "stdout",
     "output_type": "stream",
     "text": [
      "500\n"
     ]
    },
    {
     "data": {
      "text/plain": [
       "{'boxes': [<matplotlib.lines.Line2D at 0x28dce9c4a90>],\n",
       " 'caps': [<matplotlib.lines.Line2D at 0x28dce9cae10>,\n",
       "  <matplotlib.lines.Line2D at 0x28dce9d0d68>],\n",
       " 'fliers': [<matplotlib.lines.Line2D at 0x28dce9d5dd8>],\n",
       " 'means': [],\n",
       " 'medians': [<matplotlib.lines.Line2D at 0x28dce9d0e80>],\n",
       " 'whiskers': [<matplotlib.lines.Line2D at 0x28dce9c4c50>,\n",
       "  <matplotlib.lines.Line2D at 0x28dce9cacf8>]}"
      ]
     },
     "execution_count": 77,
     "metadata": {},
     "output_type": "execute_result"
    },
    {
     "data": {
      "image/png": "[encoded data removed]",
      "text/plain": [
       "<matplotlib.figure.Figure at 0x28dce763ef0>"
      ]
     },
     "metadata": {},
     "output_type": "display_data"
    }
   ],
   "source": [
    "import numpy as np\n",
    "import matplotlib.pyplot as plt\n",
    "import pylab\n",
    "import re\n",
    "%matplotlib inline\n",
    "\n",
    "data = []\n",
    "fp = open('time_unlynx_aggreg.txt')\n",
    "unit = \"\"\n",
    "\n",
    "for line in fp.readlines():\n",
    "    dataS = (re.findall(r'\\d[.]\\d*',line))\n",
    "    unit = (re.findall(r'[\\D]{2,}',line))[0]\n",
    "    data.append(float(dataS[0]))\n",
    "print(len(data))\n",
    "fig3, ax3 = plt.subplots()\n",
    "ax3.set_title(\"time in \" + unit)\n",
    "ax3.boxplot(data)\n"
   ]
  },
  {
   "cell_type": "markdown",
   "metadata": {},
   "source": [
    "# Time for the sum_cipher protocol"
   ]
  },
  {
   "cell_type": "code",
   "execution_count": 78,
   "metadata": {
    "collapsed": false,
    "scrolled": true
   },
   "outputs": [
    {
     "name": "stdout",
     "output_type": "stream",
     "text": [
      "500\n",
      "32\n"
     ]
    },
    {
     "data": {
      "text/plain": [
       "{'boxes': [<matplotlib.lines.Line2D at 0x28dcea585c0>],\n",
       " 'caps': [<matplotlib.lines.Line2D at 0x28dce9f9160>,\n",
       "  <matplotlib.lines.Line2D at 0x28dcea8fb38>],\n",
       " 'fliers': [<matplotlib.lines.Line2D at 0x28dcea9aba8>],\n",
       " 'means': [],\n",
       " 'medians': [<matplotlib.lines.Line2D at 0x28dcea8fc50>],\n",
       " 'whiskers': [<matplotlib.lines.Line2D at 0x28dcea58d30>,\n",
       "  <matplotlib.lines.Line2D at 0x28dcea08a20>]}"
      ]
     },
     "execution_count": 78,
     "metadata": {},
     "output_type": "execute_result"
    },
    {
     "data": {
      "image/png": "[encoded data removed]",
      "text/plain": [
       "<matplotlib.figure.Figure at 0x28dce835470>"
      ]
     },
     "metadata": {},
     "output_type": "display_data"
    },
    {
     "data": {
      "image/png": "[encoded data removed]",
      "text/plain": [
       "<matplotlib.figure.Figure at 0x28dcea30c88>"
      ]
     },
     "metadata": {},
     "output_type": "display_data"
    }
   ],
   "source": [
    "import numpy as np\n",
    "import matplotlib.pyplot as plt\n",
    "import pylab\n",
    "import re\n",
    "%matplotlib inline\n",
    "\n",
    "data = []\n",
    "fp = open('time_proto_without_send.txt')\n",
    "unit = \"\"\n",
    "\n",
    "for line in fp.readlines():\n",
    "    dataS = (re.findall(r'\\d[.]\\d*',line))\n",
    "    unit = (re.findall(r'[\\D]{2,}',line))[0]\n",
    "    data.append(float(dataS[0]))\n",
    "print(len(data))\n",
    "fig3, ax3 = plt.subplots()\n",
    "ax3.set_title(\"time in \" + unit)\n",
    "ax3.boxplot(data)\n",
    "\n",
    "data = []\n",
    "fp = open('time_assign_&_encode_to_server_local.txt')\n",
    "unit = \"\"\n",
    "for line in fp.readlines():\n",
    "    dataS = (re.findall(r'\\d[.]\\d*',line))\n",
    "    unit = (re.findall(r'[\\D]{2,}',line))[0]\n",
    "    data.append(float(dataS[0]))\n",
    "print(len(data))\n",
    "fig3, ax3 = plt.subplots()\n",
    "ax3.set_title(\"time in \" + unit)\n",
    "ax3.boxplot(data)"
   ]
  },
  {
   "cell_type": "code",
   "execution_count": null,
   "metadata": {
    "collapsed": true
   },
   "outputs": [],
   "source": []
  }
 ],
 "metadata": {
  "anaconda-cloud": {},
  "kernelspec": {
   "display_name": "Python [Root]",
   "language": "python",
   "name": "Python [Root]"
  },
  "language_info": {
   "codemirror_mode": {
    "name": "ipython",
    "version": 3
   },
   "file_extension": ".py",
   "mimetype": "text/x-python",
   "name": "python",
   "nbconvert_exporter": "python",
   "pygments_lexer": "ipython3",
   "version": "3.5.2"
  }
 },
 "nbformat": 4,
 "nbformat_minor": 0
}
